{
 "cells": [
  {
   "cell_type": "markdown",
   "id": "monthly-catering",
   "metadata": {},
   "source": [
    "# High-Dimensional Materials Data Explorer \n",
    "\n",
    "Applied to a set of compounds scraped from the [Inorganic Crystal Structure Database](https://icsd.products.fiz-karlsruhe.de/) and the [Materials Project](https://materialsproject.org/) using [Pymatgen](https://pymatgen.org/).<br> \n",
    "\n",
    "## Motivation\n",
    "\n",
    "As in many fields, the amount of freely-available data in the field of materials science is rapidly overtaking the ability of our current tools to provide meaningful analysis. The obvious upside to this phenomenon is the potential wealth of new knowledge to be gained by processing and analyzing all of these data. With this new knowledge, we might answer questions such as these:\n",
    "\n",
    "1. Where are we lacking materials data?\n",
    "1. How do materials properties vary by their atomic components?\n",
    "1. Where should we look for new compounds with X characteristic?\n",
    "1. What can we learn from the relationships between known materials properties?\n",
    "1. What can we learn from the distributions of materials properties?\n",
    "\n",
    "The downside is that we cannot answer these questions without first inventing new strategies for simultaneously examining many observations of many materials. These new strategies inevitably require new tools which offer broader perspectives on the massive datasets. This visualization tool provides a way for materials researchers to visually explore datasets which are too large to     \n",
    "\n",
    "## Software Choice\n",
    "Given the robustness of existing Python libraries for materials data manipulation and integration into materials science databases, I chose to maintain a Python pipeline from data import to visualization by developing this visualization tool with the Python package [Bokeh](https://docs.bokeh.org/en/latest/index.html). By avoiding Python callbacks, using JavaScript callbacks (embedded in the Python development code) instead, I ensured that all of the visualization's functionality persists into the standalone HTML output file. The final product is fully portable and requires only a web browser to work.\n",
    "\n",
    "## Usage\n",
    "This visualization tool features the following functionality:\n",
    "1. **Linked Panning, Zooming**:\n",
    "1. **Linked Brushing**: Using the \n",
    "1. **Configurable Axes**: Using the dropdown menus labeled 'X Axis' and 'Y Axis', the user can choose which material property is plotted on the axes of each scatter-KDE combo plot.\n",
    "1. **Interactive Legend**: By clicking on the legend items, the user can hide data from select anions to focus on or compare materials families.\n"
   ]
  },
  {
   "cell_type": "code",
   "execution_count": null,
   "id": "atmospheric-chinese",
   "metadata": {},
   "outputs": [],
   "source": []
  }
 ],
 "metadata": {
  "kernelspec": {
   "display_name": "Python 3",
   "language": "python",
   "name": "python3"
  },
  "language_info": {
   "codemirror_mode": {
    "name": "ipython",
    "version": 3
   },
   "file_extension": ".py",
   "mimetype": "text/x-python",
   "name": "python",
   "nbconvert_exporter": "python",
   "pygments_lexer": "ipython3",
   "version": "3.9.1"
  }
 },
 "nbformat": 4,
 "nbformat_minor": 5
}
