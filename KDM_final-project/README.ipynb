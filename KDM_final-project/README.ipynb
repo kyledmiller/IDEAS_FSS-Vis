{
 "cells": [
  {
   "cell_type": "markdown",
   "id": "improved-conditioning",
   "metadata": {},
   "source": [
    "# High Dimensional Materials Data Explorer \n",
    "\n",
    "Applied to a set of binary and ternary transition metal compounds scraped from the [Materials Project](https://materialsproject.org/) using [Pymatgen](https://pymatgen.org/).<br> \n",
    "\n",
    "## Motivation\n",
    "\n",
    "As in many fields, the amount of freely-available data in the field of materials science is rapidly overtaking the ability of our current tools to provide meaningful analysis. The obvious upside to this phenomenon is the potential wealth of new knowledge to be gained by processing and analyzing all of this data. With this new knowledge, we might answer questions such as these:\n",
    "\n",
    "1. Where are we lacking materials data?\n",
    "1. How do materials properties vary by their atomic components?\n",
    "1. Where should we look for new compounds with X characteristic?\n",
    "1. What can we learn from the relationships between known materials properties?\n",
    "1. What can we learn from the distributions of materials properties?\n",
    "\n",
    "The downside is that we must invent new strategies for simultaneously examining many observations of many materials. These new strategies inevitable require new tools which allow us to figuratively and literally see the data in new ways. The foll\n",
    "\n",
    "## Software Choice\n",
    "Given the robustness of existing Python libraries for materials data manipulation and integration into materials science databases, I chose maintain a Python pipeline from data import to visualization by developing this visualization tool with the Python package [Bokeh](https://docs.bokeh.org/en/latest/index.html). "
   ]
  },
  {
   "cell_type": "code",
   "execution_count": null,
   "id": "productive-guard",
   "metadata": {},
   "outputs": [],
   "source": []
  }
 ],
 "metadata": {
  "kernelspec": {
   "display_name": "Python 3",
   "language": "python",
   "name": "python3"
  },
  "language_info": {
   "codemirror_mode": {
    "name": "ipython",
    "version": 3
   },
   "file_extension": ".py",
   "mimetype": "text/x-python",
   "name": "python",
   "nbconvert_exporter": "python",
   "pygments_lexer": "ipython3",
   "version": "3.9.1"
  }
 },
 "nbformat": 4,
 "nbformat_minor": 5
}
